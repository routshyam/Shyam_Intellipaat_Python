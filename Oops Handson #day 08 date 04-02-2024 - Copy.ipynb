{
 "cells": [
  {
   "cell_type": "code",
   "execution_count": null,
   "id": "b6498ce9",
   "metadata": {},
   "outputs": [],
   "source": [
    "# Q1. Wrrite a python class 'car' with attributes 'make' and 'model' . Create ab object of this class and print its attributes."
   ]
  },
  {
   "cell_type": "code",
   "execution_count": 8,
   "id": "adc359d2",
   "metadata": {},
   "outputs": [
    {
     "name": "stdout",
     "output_type": "stream",
     "text": [
      "The company of car is Mercedes and the model is AMG\n"
     ]
    }
   ],
   "source": [
    "class car:\n",
    "    def __init__(self,make,model):\n",
    "        self.make = make \n",
    "        self.model = model\n",
    "car1 = car(\"Mercedes\",\"AMG\")\n",
    "print(f\"The company of car is {car1.make} and the model is {car1.model}\")\n"
   ]
  },
  {
   "cell_type": "code",
   "execution_count": 6,
   "id": "da165c3c",
   "metadata": {},
   "outputs": [],
   "source": [
    "#Q2. Add a method \"start()\" to the \"car\" class that prints \"Engine started\" when called"
   ]
  },
  {
   "cell_type": "code",
   "execution_count": 15,
   "id": "b9a01b0d",
   "metadata": {},
   "outputs": [
    {
     "name": "stdout",
     "output_type": "stream",
     "text": [
      "Engine started\n"
     ]
    }
   ],
   "source": [
    "class car:\n",
    "    def __init__(self,make,model):\n",
    "        self.make = make\n",
    "        self.model = model\n",
    "    def start(self):\n",
    "        print(\"Engine started\")\n",
    "        \n",
    "car2 = car(\"Toyota\",\"supera\")\n",
    "# print(f\"The company of car is {car2.make} and the model is {car2.model}\")\n",
    "car2.start()\n"
   ]
  },
  {
   "cell_type": "code",
   "execution_count": null,
   "id": "10d98355",
   "metadata": {},
   "outputs": [],
   "source": [
    "#Q3. Write a python class called \"person\" with a constructor method that initializes the \"name\" attribute. \n",
    "# Create an object of this class and print. "
   ]
  },
  {
   "cell_type": "code",
   "execution_count": 27,
   "id": "b4aea94f",
   "metadata": {},
   "outputs": [
    {
     "name": "stdout",
     "output_type": "stream",
     "text": [
      "Hello my name is Anuj.\n"
     ]
    }
   ],
   "source": [
    "class person:\n",
    "    def __init__(self,name):\n",
    "        self.name = name\n",
    "    \n",
    "    def new(self):\n",
    "        print(f\"Hello my name is {self.name}.\")\n",
    "    \n",
    "p1=person(\"Anuj\")\n",
    "# print(\"Hello my name is\",p1.name)\n",
    "p1.new()"
   ]
  },
  {
   "cell_type": "code",
   "execution_count": null,
   "id": "56b5f108",
   "metadata": {},
   "outputs": [],
   "source": [
    "#Q4. Create a class \"ElectricCar\" that inherits from the 'Car' class.\n",
    "# Add an additional attribute 'battery_capacity' to the 'ElectricCar' class and print it."
   ]
  },
  {
   "cell_type": "code",
   "execution_count": 33,
   "id": "05b83243",
   "metadata": {},
   "outputs": [
    {
     "name": "stdout",
     "output_type": "stream",
     "text": [
      "Make Tesla\n",
      "model Model S\n",
      "battery_capacity 100 kwh\n"
     ]
    }
   ],
   "source": [
    "class car:\n",
    "    def __init__(self,make,model):\n",
    "        self.make = make\n",
    "        self.model = model\n",
    "class ElectricCar(car):\n",
    "    def __init__(self,make,model,battery_capacity):\n",
    "        super().__init__(make,model)\n",
    "        self.battery_capacity=battery_capacity\n",
    "        \n",
    "        \n",
    "e1 = ElectricCar(\"Tesla\",\"Model S\",\"100 kwh\")\n",
    "print(\"Make\",e1.make)\n",
    "print(\"model\",e1.model)\n",
    "print(\"battery_capacity\",e1.battery_capacity)"
   ]
  },
  {
   "cell_type": "code",
   "execution_count": null,
   "id": "ec9c7816",
   "metadata": {},
   "outputs": [],
   "source": [
    "#Q5. Create a parent class \"Animal\" with an attribute \"species\" and a child class \"Dog\" that inherite from the \"Animal.\n",
    "# Initialize the species attribute  in the parent class and add a \"bark()\" method in the child class to the print the dogs barking"
   ]
  },
  {
   "cell_type": "code",
   "execution_count": 38,
   "id": "f389af11",
   "metadata": {},
   "outputs": [
    {
     "name": "stdout",
     "output_type": "stream",
     "text": [
      "The dog of the breed German shephard barks woof woof.\n"
     ]
    }
   ],
   "source": [
    "class Animal:\n",
    "    def __init__(self,species):\n",
    "        self.species=species\n",
    "        \n",
    "class Dog(Animal):\n",
    "    def bark(self):\n",
    "        print(f\"The dog of the breed {self.species} barks woof woof.\")\n",
    "        \n",
    "dog1 = Dog(\"German shephard\")\n",
    "dog1.bark()"
   ]
  },
  {
   "cell_type": "code",
   "execution_count": null,
   "id": "2c27492f",
   "metadata": {},
   "outputs": [],
   "source": [
    "#Q6 Create two classes 'cat' and 'dog' both with a 'speak()' method . In the 'speak()' method of each class return the sound that the animal makes.\n",
    "# Demonstrate polymorphism by calling the 'speak()' method an object of both classes."
   ]
  },
  {
   "cell_type": "code",
   "execution_count": 44,
   "id": "46bfdb06",
   "metadata": {},
   "outputs": [
    {
     "name": "stdout",
     "output_type": "stream",
     "text": [
      "cat sound\n",
      "dog sound\n"
     ]
    }
   ],
   "source": [
    "class Cat:\n",
    "    def speak(self):\n",
    "        print(\"cat sound\")\n",
    "    \n",
    "class Dog:\n",
    "    def speak(self):\n",
    "        print(\"dog sound\")\n",
    "        \n",
    "cat=Cat()\n",
    "dog=Dog()\n",
    "\n",
    "cat.speak()\n",
    "dog.speak()"
   ]
  },
  {
   "cell_type": "code",
   "execution_count": 50,
   "id": "0f90fe6c",
   "metadata": {},
   "outputs": [
    {
     "name": "stdout",
     "output_type": "stream",
     "text": [
      "animal sound\n",
      "dog sound\n"
     ]
    }
   ],
   "source": [
    "class Animal:\n",
    "    def speak(self):\n",
    "        print(\"animal sound\")\n",
    "    \n",
    "class Dog(Animal):\n",
    "    def speak(self):\n",
    "#         super().speak()\n",
    "        print(\"dog sound\")\n",
    "        \n",
    "animal=Animal()\n",
    "dog=Dog()\n",
    "\n",
    "animal.speak()\n",
    "dog.speak()"
   ]
  },
  {
   "cell_type": "code",
   "execution_count": 51,
   "id": "3223f498",
   "metadata": {},
   "outputs": [
    {
     "name": "stdout",
     "output_type": "stream",
     "text": [
      "animal sound\n",
      "dog sound\n",
      "cat sound\n"
     ]
    }
   ],
   "source": [
    "class Animal:\n",
    "    def speak(self):\n",
    "        print(\"animal sound\")\n",
    "    \n",
    "class Dog(Animal):\n",
    "    def speak(self):\n",
    "        print(\"dog sound\")\n",
    "        \n",
    "class Cat(Animal):\n",
    "    def speak(self):\n",
    "        print(\"cat sound\")\n",
    "        \n",
    "animal=Animal()\n",
    "dog=Dog()\n",
    "cat=Cat()\n",
    "\n",
    "animal.speak()\n",
    "dog.speak()\n",
    "cat.speak()"
   ]
  },
  {
   "cell_type": "code",
   "execution_count": null,
   "id": "69cc2791",
   "metadata": {},
   "outputs": [],
   "source": []
  }
 ],
 "metadata": {
  "kernelspec": {
   "display_name": "Python 3 (ipykernel)",
   "language": "python",
   "name": "python3"
  },
  "language_info": {
   "codemirror_mode": {
    "name": "ipython",
    "version": 3
   },
   "file_extension": ".py",
   "mimetype": "text/x-python",
   "name": "python",
   "nbconvert_exporter": "python",
   "pygments_lexer": "ipython3",
   "version": "3.11.5"
  }
 },
 "nbformat": 4,
 "nbformat_minor": 5
}
