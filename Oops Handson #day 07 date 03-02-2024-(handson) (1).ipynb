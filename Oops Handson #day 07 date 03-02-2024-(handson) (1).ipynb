{
 "cells": [
  {
   "cell_type": "code",
   "execution_count": 1,
   "id": "9d2141a0",
   "metadata": {},
   "outputs": [],
   "source": [
    "# 1. Create a function named ‘factor’ that can only accept 1 argument. The\n",
    "# function should return the factorial of that number.\n",
    "\n",
    "# n! = n * (n-1) * (n-2) * (n-3) ------* 1\n",
    "\n",
    "# 5! = 5*4*3*2*1 = 120\n",
    "# recurssion - calling the function again & again"
   ]
  },
  {
   "cell_type": "code",
   "execution_count": 4,
   "id": "7152fdea",
   "metadata": {},
   "outputs": [],
   "source": [
    "def factorial(n):\n",
    "    if n == 0:\n",
    "         return 1\n",
    "    else :\n",
    "        return n * factorial(n-1)\n",
    "    \n"
   ]
  },
  {
   "cell_type": "code",
   "execution_count": 5,
   "id": "c6b7d367",
   "metadata": {},
   "outputs": [
    {
     "data": {
      "text/plain": [
       "6"
      ]
     },
     "execution_count": 5,
     "metadata": {},
     "output_type": "execute_result"
    }
   ],
   "source": [
    "# lets dry run\n",
    "\n",
    "factorial(3)\n",
    "\n",
    "# factorial(n)     n == 0      n*(n-1)\n",
    "# 3                 FALSE       3* (3-1)=2\n",
    "# 2                 FALSE       2* (2-1)=1\n",
    "# 1                 FALSE       1* (1-1)=0\n",
    "# 0                  TRUE         1          As mathematatical standardization in factorial calculation 0 is 1"
   ]
  },
  {
   "cell_type": "code",
   "execution_count": 6,
   "id": "9b2acae8",
   "metadata": {},
   "outputs": [
    {
     "data": {
      "text/plain": [
       "120"
      ]
     },
     "execution_count": 6,
     "metadata": {},
     "output_type": "execute_result"
    }
   ],
   "source": [
    "factorial(5)"
   ]
  },
  {
   "cell_type": "code",
   "execution_count": null,
   "id": "91095afc",
   "metadata": {},
   "outputs": [],
   "source": [
    "# 2. Create a function named ‘check_string’, the function should accept a string\n",
    "# data from the user and the function should check if the user input contains\n",
    "# the letter ‘s’ in it. If it contains the letter ‘s’ then print- ‘The string is\n",
    "# containing the letter ‘s’’, if not then print- ‘The string doesn’t contain the\n",
    "# letter ‘s’’."
   ]
  },
  {
   "cell_type": "code",
   "execution_count": 31,
   "id": "9ca1d743",
   "metadata": {},
   "outputs": [],
   "source": [
    "def check_string(input_string):\n",
    "    if \"s\" in input_string:\n",
    "        print(\"The string is containing the letter ‘s’\")\n",
    "    else :\n",
    "        print(\"The string doesn’t contain the letter ‘s’\")\n",
    "\n"
   ]
  },
  {
   "cell_type": "code",
   "execution_count": 33,
   "id": "3421386c",
   "metadata": {},
   "outputs": [
    {
     "name": "stdout",
     "output_type": "stream",
     "text": [
      "Enter the string to be checked :shyam\n",
      "The string is containing the letter ‘s’\n"
     ]
    }
   ],
   "source": [
    "input_string = input(\"Enter the string to be checked :\")\n",
    "s = input_string\n",
    "check_string(s) \n"
   ]
  },
  {
   "cell_type": "code",
   "execution_count": null,
   "id": "3267bfa4",
   "metadata": {},
   "outputs": [],
   "source": [
    "# 3. Create a class named ‘student’ and inside the class, create a function\n",
    "# named ‘fun1’- this method should accept the user defined input and return\n",
    "# that value:\n",
    "# a. Create another method named- message() and that method should print\n",
    "# the user defined input that we have defined in ‘fun1’."
   ]
  },
  {
   "cell_type": "code",
   "execution_count": 23,
   "id": "263c49c2",
   "metadata": {},
   "outputs": [],
   "source": [
    "class student:\n",
    "    def fun1(self):\n",
    "        self.user_input = input(\"Enter the value:\")   \n",
    "        return self.user_input\n",
    "   \n",
    "    def message(self):\n",
    "        value=self.fun1()\n",
    "        return value"
   ]
  },
  {
   "cell_type": "code",
   "execution_count": 24,
   "id": "ad046d9f",
   "metadata": {},
   "outputs": [],
   "source": [
    "obj1 = student()"
   ]
  },
  {
   "cell_type": "code",
   "execution_count": 52,
   "id": "d65b9fe4",
   "metadata": {},
   "outputs": [
    {
     "name": "stdout",
     "output_type": "stream",
     "text": [
      "Enter the value:5\n"
     ]
    },
    {
     "data": {
      "text/plain": [
       "'5'"
      ]
     },
     "execution_count": 52,
     "metadata": {},
     "output_type": "execute_result"
    }
   ],
   "source": [
    "obj1.fun1()\n"
   ]
  },
  {
   "cell_type": "code",
   "execution_count": 53,
   "id": "f2433c9b",
   "metadata": {},
   "outputs": [
    {
     "name": "stdout",
     "output_type": "stream",
     "text": [
      "Enter the value:6\n"
     ]
    },
    {
     "data": {
      "text/plain": [
       "'6'"
      ]
     },
     "execution_count": 53,
     "metadata": {},
     "output_type": "execute_result"
    }
   ],
   "source": [
    "obj1.message()\n"
   ]
  },
  {
   "cell_type": "code",
   "execution_count": 69,
   "id": "1c1b737c",
   "metadata": {},
   "outputs": [],
   "source": [
    "# 4. Create a lambda function that should double or multiply the number (that\n",
    "# we will be passing in the lambda function) by 2. Store the lambda function\n",
    "# in a variable named ‘double_num’"
   ]
  },
  {
   "cell_type": "code",
   "execution_count": 49,
   "id": "6357562a",
   "metadata": {},
   "outputs": [],
   "source": [
    "double_name = lambda a:a*2\n"
   ]
  },
  {
   "cell_type": "code",
   "execution_count": 51,
   "id": "50391e05",
   "metadata": {},
   "outputs": [
    {
     "data": {
      "text/plain": [
       "10"
      ]
     },
     "execution_count": 51,
     "metadata": {},
     "output_type": "execute_result"
    }
   ],
   "source": [
    "double_name(5)"
   ]
  },
  {
   "cell_type": "code",
   "execution_count": null,
   "id": "f7665edb",
   "metadata": {},
   "outputs": [],
   "source": [
    "# 5. Take user input string and check whether that string is palindrome or not.\n",
    "\n",
    "# Palindrome ek aise string hota hai jo ulta-sidha dono taraf se same hota hai. \n",
    "# Jaise, \"radar\", \"level\", \"madam\" - yeh sab palindromic strings hain kyunki inka reverse bhi wahi string hota hai.\n",
    "\n",
    "# invert or revert string doesnt change ,alled that palindrome...()\n",
    "\n",
    "# MOM----------REverse------MOM(no change)----called string\n",
    "\n"
   ]
  },
  {
   "cell_type": "code",
   "execution_count": 69,
   "id": "9bc295c3",
   "metadata": {},
   "outputs": [
    {
     "name": "stdout",
     "output_type": "stream",
     "text": [
      "Enter a string  check :shyam\n",
      "Not a palindrome String\n"
     ]
    }
   ],
   "source": [
    "input_string = input(\"Enter a string  check :\")\n",
    "input_string = input_string.lower()\n",
    "if input_string == input_string[::-1]:\n",
    "    print(\"palindrome  String\")\n",
    "else:\n",
    "    print(\"Not a palindrome String\")\n",
    "# print(input_string)\n",
    "# print(input_string[::-1])"
   ]
  },
  {
   "cell_type": "code",
   "execution_count": null,
   "id": "51b86609",
   "metadata": {},
   "outputs": [],
   "source": [
    "# 6. Create a class named ‘Super’ and inside that class define a user-defined function named\n",
    "# fun1.\n",
    "\n",
    "# a. Inside the ‘fun1’ function, pass the message “This is function 1 in the Super class.”\n",
    "# in the print statement."
   ]
  },
  {
   "cell_type": "code",
   "execution_count": 71,
   "id": "ba4a5b6c",
   "metadata": {},
   "outputs": [],
   "source": [
    "class super:\n",
    "    def fun1(self):\n",
    "        print(\"This is function 1 in the Super class\")"
   ]
  },
  {
   "cell_type": "code",
   "execution_count": 72,
   "id": "c0a87678",
   "metadata": {},
   "outputs": [],
   "source": [
    "obj2 = super()"
   ]
  },
  {
   "cell_type": "code",
   "execution_count": 73,
   "id": "402b21c0",
   "metadata": {},
   "outputs": [
    {
     "name": "stdout",
     "output_type": "stream",
     "text": [
      "This is function 1 in the Super class\n"
     ]
    }
   ],
   "source": [
    "obj2.fun1()"
   ]
  },
  {
   "cell_type": "code",
   "execution_count": null,
   "id": "c64f36cd",
   "metadata": {},
   "outputs": [],
   "source": [
    "# 7. Create another class named ‘Modified_Super’ and inherit this class from the Super class.\n",
    "\n",
    "# a. Inside the Modified_Super class, create a function named ‘fun1’ and pass the\n",
    "# following message inside the print statement: ‘This is function 1 in the Modified\n",
    "# Super class.’\n",
    "\n",
    "# b. Create another user-defined function named ‘fun2’ and pass the message: ‘This is\n",
    "# the 2nd function from the Modified Super class’ in the print statement.\n",
    "\n",
    "# c. After that, now create an object for the Modified_Super class and call the fun1()."
   ]
  },
  {
   "cell_type": "code",
   "execution_count": 74,
   "id": "d2775b0d",
   "metadata": {},
   "outputs": [],
   "source": [
    "class Modified_Super(super):\n",
    "    def fun1(self):\n",
    "        print(\"This is function 1 in the Modified Super class\")\n",
    "    def fun2(self):\n",
    "        print(\"This is the 2nd function from the Modified Super class\")\n",
    "        \n",
    "        "
   ]
  },
  {
   "cell_type": "code",
   "execution_count": 75,
   "id": "de9d8efa",
   "metadata": {},
   "outputs": [],
   "source": [
    "obj3 = Modified_Super()"
   ]
  },
  {
   "cell_type": "code",
   "execution_count": 77,
   "id": "f88dfdec",
   "metadata": {},
   "outputs": [
    {
     "name": "stdout",
     "output_type": "stream",
     "text": [
      "This is function 1 in the Modified Super class\n"
     ]
    }
   ],
   "source": [
    "obj3.fun1()"
   ]
  },
  {
   "cell_type": "code",
   "execution_count": null,
   "id": "9fbaedc5",
   "metadata": {},
   "outputs": [],
   "source": [
    "# 8. Create 2 methods named ‘Hello’. In the 1st Hello method, pass only one argument and pass\n",
    "# this message: ‘This function only has 1 argument’. And in the 2nd Hello method, pass\n",
    "# two arguments and pass this message: ‘This function has 2 arguments’.\n",
    "\n",
    "# a. Try to call both the methods and analyze the output of both the methods.\n"
   ]
  },
  {
   "cell_type": "code",
   "execution_count": 91,
   "id": "b0b08791",
   "metadata": {},
   "outputs": [],
   "source": [
    "def Hello(arg1):\n",
    "    print(\"This function only has 1 argument\")\n",
    "    \n",
    "    \n",
    "def Hello(arg1,arg2):\n",
    "    print(\"This function has 2 arguments\")"
   ]
  },
  {
   "cell_type": "code",
   "execution_count": 92,
   "id": "a2b1dd80",
   "metadata": {},
   "outputs": [
    {
     "name": "stdout",
     "output_type": "stream",
     "text": [
      "This function has 2 arguments\n"
     ]
    }
   ],
   "source": [
    "Hello(2,4)"
   ]
  },
  {
   "cell_type": "code",
   "execution_count": 93,
   "id": "bc63141f",
   "metadata": {},
   "outputs": [
    {
     "ename": "TypeError",
     "evalue": "Hello() missing 1 required positional argument: 'arg2'",
     "output_type": "error",
     "traceback": [
      "\u001b[1;31m---------------------------------------------------------------------------\u001b[0m",
      "\u001b[1;31mTypeError\u001b[0m                                 Traceback (most recent call last)",
      "Cell \u001b[1;32mIn[93], line 1\u001b[0m\n\u001b[1;32m----> 1\u001b[0m Hello(\u001b[38;5;241m5\u001b[39m)\n",
      "\u001b[1;31mTypeError\u001b[0m: Hello() missing 1 required positional argument: 'arg2'"
     ]
    }
   ],
   "source": [
    "Hello(5)"
   ]
  },
  {
   "cell_type": "code",
   "execution_count": null,
   "id": "a505d74f",
   "metadata": {},
   "outputs": [],
   "source": [
    "# 9. Create a method named ‘Sum’ that can accept multiple user inputs. Now add those user\u0002defined input \n",
    "# values using for loop and the function should return the addition of the numbers."
   ]
  },
  {
   "cell_type": "code",
   "execution_count": 28,
   "id": "47af72cd",
   "metadata": {},
   "outputs": [],
   "source": [
    "def Sum(*args):\n",
    "    total = 0\n",
    "    for i in args:\n",
    "        total+= i\n",
    "    return total\n"
   ]
  },
  {
   "cell_type": "code",
   "execution_count": 29,
   "id": "b893b521",
   "metadata": {},
   "outputs": [
    {
     "data": {
      "text/plain": [
       "28"
      ]
     },
     "execution_count": 29,
     "metadata": {},
     "output_type": "execute_result"
    }
   ],
   "source": [
    "Sum(1,2,3,4,5,6,7)\n"
   ]
  },
  {
   "cell_type": "code",
   "execution_count": null,
   "id": "7a24508d",
   "metadata": {},
   "outputs": [],
   "source": [
    "# backend mecganism\n",
    "\n",
    "total for i    total\n",
    "0      1         1\n",
    "1      2         3\n",
    "3      3         6\n",
    "6      4         10\n",
    "10     5         15\n",
    "15     6         21\n",
    "21     7         28----- exit (total : - 28)"
   ]
  },
  {
   "cell_type": "code",
   "execution_count": null,
   "id": "0ddd31a5",
   "metadata": {},
   "outputs": [],
   "source": [
    "# 10. Create a class named ‘Encapsulation’:\n",
    "\n",
    "# a. Inside the class, first create a constructor. Inside the constructor, initialize\n",
    "# originalValue variable as 10.\n",
    "\n",
    "# b. After creating the constructor, define a function named ‘Value’ and this function\n",
    "# should return the variable that we have initialized in the constructor.\n",
    "\n",
    "# c. Now create 2nd function named setValue, and pass an argument named\n",
    "# ‘newValue’. The task of this function will be to replace the value of the\n",
    "# originalValue variable by the value of the newValue variable# "
   ]
  },
  {
   "cell_type": "code",
   "execution_count": 6,
   "id": "2bf5685d",
   "metadata": {},
   "outputs": [],
   "source": [
    "class Encapsulation:\n",
    "    def __init__(self):\n",
    "        self.OriginalValue = 10\n",
    "    def Value(self):\n",
    "        return self.OriginalValue\n",
    "    def SetValue(self, newValue):\n",
    "        self.OriginalValue = newValue\n",
    "        "
   ]
  },
  {
   "cell_type": "code",
   "execution_count": 7,
   "id": "76da86c7",
   "metadata": {},
   "outputs": [],
   "source": [
    "obj4 = Encapsulation()"
   ]
  },
  {
   "cell_type": "code",
   "execution_count": 8,
   "id": "e01f7b43",
   "metadata": {},
   "outputs": [
    {
     "name": "stdout",
     "output_type": "stream",
     "text": [
      "10\n"
     ]
    }
   ],
   "source": [
    "ov = obj4.Value()\n",
    "print(ov)"
   ]
  },
  {
   "cell_type": "code",
   "execution_count": 9,
   "id": "70aeb77d",
   "metadata": {},
   "outputs": [],
   "source": [
    "obj4.SetValue(30)\n"
   ]
  },
  {
   "cell_type": "code",
   "execution_count": 10,
   "id": "5d571004",
   "metadata": {},
   "outputs": [
    {
     "name": "stdout",
     "output_type": "stream",
     "text": [
      "30\n"
     ]
    }
   ],
   "source": [
    "nv = obj4.Value()\n",
    "print(nv)"
   ]
  },
  {
   "cell_type": "code",
   "execution_count": null,
   "id": "d55c050c",
   "metadata": {},
   "outputs": [],
   "source": []
  },
  {
   "cell_type": "code",
   "execution_count": null,
   "id": "4bf7e888",
   "metadata": {},
   "outputs": [],
   "source": []
  },
  {
   "cell_type": "code",
   "execution_count": null,
   "id": "3a0c9420",
   "metadata": {},
   "outputs": [],
   "source": []
  }
 ],
 "metadata": {
  "kernelspec": {
   "display_name": "Python 3 (ipykernel)",
   "language": "python",
   "name": "python3"
  },
  "language_info": {
   "codemirror_mode": {
    "name": "ipython",
    "version": 3
   },
   "file_extension": ".py",
   "mimetype": "text/x-python",
   "name": "python",
   "nbconvert_exporter": "python",
   "pygments_lexer": "ipython3",
   "version": "3.11.5"
  }
 },
 "nbformat": 4,
 "nbformat_minor": 5
}
