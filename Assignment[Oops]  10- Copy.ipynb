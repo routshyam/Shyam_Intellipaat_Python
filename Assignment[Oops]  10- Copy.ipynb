{
 "cells": [
  {
   "cell_type": "markdown",
   "id": "ebce0a8e",
   "metadata": {},
   "source": [
    "Q1. Write a Python program to demonstrate multiple inheritance.\n",
    "1. Employee class has 3 data members EmployeeID, Gender (String), Salary and PerformanceRating(Out of 5) of type int. It has a get() function to get these details from the user.\n",
    "2. JoiningDetail class has a data member DateOfJoining of type Date and a function getDoJ to get the Date of joining of employees.\n",
    "3. Information Class uses the marks from Employee class and the DateOfJoining date from the JoiningDetail class to calculate the top 3 Employees based on their Ratings and then Display, using readData, all the details on these employees in Ascending order of their Date Of Joining."
   ]
  },
  {
   "cell_type": "code",
   "execution_count": 2,
   "id": "0724c443",
   "metadata": {},
   "outputs": [
    {
     "name": "stdout",
     "output_type": "stream",
     "text": [
      "Enter the number of employees: 6\n",
      "Enter Employee ID: 1032\n",
      "Enter Gender: F\n",
      "Enter Salary: 47500\n",
      "Enter Performance Rating (out of 5): 4\n",
      "Enter year of joining (YYYY): 2017\n",
      "Enter month of joining (MM): 09\n",
      "Enter day of joining (DD): 10\n",
      "Enter Employee ID: 698\n",
      "Enter Gender: M\n",
      "Enter Salary: 72000\n",
      "Enter Performance Rating (out of 5): 5\n",
      "Enter year of joining (YYYY): 2013\n",
      "Enter month of joining (MM): 01\n",
      "Enter day of joining (DD): 10\n",
      "Enter Employee ID: 1532\n",
      "Enter Gender: F\n",
      "Enter Salary: 39000\n",
      "Enter Performance Rating (out of 5): 5\n",
      "Enter year of joining (YYYY): 2020\n",
      "Enter month of joining (MM): 12\n",
      "Enter day of joining (DD): 10\n",
      "Enter Employee ID: 2004\n",
      "Enter Gender: M\n",
      "Enter Salary: 18500\n",
      "Enter Performance Rating (out of 5): 3\n",
      "Enter year of joining (YYYY): 2022\n",
      "Enter month of joining (MM): 07\n",
      "Enter day of joining (DD): 10\n",
      "Enter Employee ID: 1057\n",
      "Enter Gender: M\n",
      "Enter Salary: 50500\n",
      "Enter Performance Rating (out of 5): 4\n",
      "Enter year of joining (YYYY): 2017\n",
      "Enter month of joining (MM): 10\n",
      "Enter day of joining (DD): 10\n",
      "Enter Employee ID: 918\n",
      "Enter Gender: F\n",
      "Enter Salary: 58000\n",
      "Enter Performance Rating (out of 5): 5\n",
      "Enter year of joining (YYYY): 2017\n",
      "Enter month of joining (MM): 05\n",
      "Enter day of joining (DD): 10\n",
      "Top 3 Employees based on Performance Rating:\n",
      "Employee ID: 698\n",
      "Gender: M\n",
      "Salary: 72000\n",
      "Performance Rating: 5\n",
      "Date of Joining: 2013-01-10\n",
      "\n",
      "Employee ID: 918\n",
      "Gender: F\n",
      "Salary: 58000\n",
      "Performance Rating: 5\n",
      "Date of Joining: 2017-05-10\n",
      "\n",
      "Employee ID: 1532\n",
      "Gender: F\n",
      "Salary: 39000\n",
      "Performance Rating: 5\n",
      "Date of Joining: 2020-12-10\n",
      "\n"
     ]
    }
   ],
   "source": [
    "from datetime import date\n",
    "\n",
    "class Employee:\n",
    "    def __init__(self):\n",
    "        self.EmployeeID = 0\n",
    "        self.Gender = \"\"\n",
    "        self.Salary = 0\n",
    "        self.PerformanceRating = 0\n",
    "    \n",
    "    def get(self):\n",
    "        self.EmployeeID = int(input(\"Enter Employee ID: \"))\n",
    "        self.Gender = input(\"Enter Gender: \")\n",
    "        self.Salary = int(input(\"Enter Salary: \"))\n",
    "        self.PerformanceRating = int(input(\"Enter Performance Rating (out of 5): \"))\n",
    "\n",
    "class JoiningDetail:\n",
    "    def __init__(self):\n",
    "        self.DateOfJoining = date.today()\n",
    "    \n",
    "    def getDoJ(self):\n",
    "        year = int(input(\"Enter year of joining (YYYY): \"))\n",
    "        month = int(input(\"Enter month of joining (MM): \"))\n",
    "        day = int(input(\"Enter day of joining (DD): \"))\n",
    "        self.DateOfJoining = date(year, month, day)\n",
    "\n",
    "class Information(Employee, JoiningDetail):\n",
    "    def __init__(self):\n",
    "        Employee.__init__(self)\n",
    "        JoiningDetail.__init__(self)\n",
    "        self.employee_data = []\n",
    "    \n",
    "    def readData(self, num_employees):\n",
    "        for _ in range(num_employees):\n",
    "            employee = Information()\n",
    "            employee.get()\n",
    "            employee.getDoJ()\n",
    "            self.employee_data.append(employee)\n",
    "    \n",
    "    def displayTopEmployees(self):\n",
    "        sorted_data = sorted(self.employee_data, key=lambda x: x.PerformanceRating, reverse=True)\n",
    "        top_employees = sorted_data[:3]\n",
    "        sorted_employees = sorted(top_employees, key=lambda x: x.DateOfJoining)\n",
    "        \n",
    "        print(\"Top 3 Employees based on Performance Rating:\")\n",
    "        for employee in sorted_employees:\n",
    "            print(\"Employee ID:\", employee.EmployeeID)\n",
    "            print(\"Gender:\", employee.Gender)\n",
    "            print(\"Salary:\", employee.Salary)\n",
    "            print(\"Performance Rating:\", employee.PerformanceRating)\n",
    "            print(\"Date of Joining:\", employee.DateOfJoining)\n",
    "            print()\n",
    "\n",
    "information = Information()\n",
    "num_employees = int(input(\"Enter the number of employees: \"))\n",
    "information.readData(num_employees)\n",
    "information.displayTopEmployees()"
   ]
  },
  {
   "cell_type": "markdown",
   "id": "4bec4416",
   "metadata": {},
   "source": [
    "Q.2 Write a Python program to demonstrate Polymorphism.\n",
    "1. Class Vehicle with a parameterized function Fare, that takes input value as fare and returns it to calling Objects.\n",
    "2. Create five separate variables Bus, Car, Train, Truck and Ship that call the Fare function.\n",
    "3. Use a third variable TotalFare to store the sum of fare for each Vehicle Type.\n",
    "4. Print the TotalFare."
   ]
  },
  {
   "cell_type": "code",
   "execution_count": 3,
   "id": "f221c3df",
   "metadata": {},
   "outputs": [
    {
     "name": "stdout",
     "output_type": "stream",
     "text": [
      "Total Fare: 1500\n"
     ]
    }
   ],
   "source": [
    "class Vehicle:\n",
    "    def Fare(self, fare):\n",
    "        return fare\n",
    "\n",
    "Bus = Vehicle()\n",
    "Car = Vehicle()\n",
    "Train = Vehicle()\n",
    "Truck = Vehicle()\n",
    "Ship = Vehicle()\n",
    "\n",
    "bus_fare = Bus.Fare(100)\n",
    "car_fare = Car.Fare(200)\n",
    "train_fare = Train.Fare(300)\n",
    "truck_fare = Truck.Fare(400)\n",
    "ship_fare = Ship.Fare(500)\n",
    "\n",
    "total_fare = bus_fare + car_fare + train_fare + truck_fare + ship_fare\n",
    "\n",
    "print(\"Total Fare:\", total_fare)"
   ]
  },
  {
   "cell_type": "markdown",
   "id": "613279fc",
   "metadata": {},
   "source": [
    "Q3. Consider an ongoing test cricket series. Following are the names of the players and their scores in the test1 and 2.\n",
    "- Test Match 1 :\n",
    "Dhoni : 56 , Balaji : 94\n",
    "- Test Match 2 :\n",
    "Balaji : 80 , Dravid : 105\n",
    ">Calculate the highest number of runs scored by an individual cricketer in both of the matches. Create a python function Max_Score (M) that reads a dictionary M that recognizes the player with the highest total score. This function will return ( Top player , Total Score ) . You can consider the Top player as String who is the highest scorer and Top score as Integer .\n",
    "- Input : Max_Score({‘test1’:{‘Dhoni’:56, ‘Balaji : 85}, ‘test2’:{‘Dhoni’ 87, ‘Balaji’’:200}})\n",
    ">Output : (‘Balaji ‘ , 200)"
   ]
  },
  {
   "cell_type": "code",
   "execution_count": 4,
   "id": "2022971d",
   "metadata": {},
   "outputs": [
    {
     "name": "stdout",
     "output_type": "stream",
     "text": [
      "('Balaji', 200)\n"
     ]
    }
   ],
   "source": [
    "def Max_Score(M):\n",
    "    top_player = \"\"\n",
    "    top_score = 0\n",
    "    \n",
    "    for match, scores in M.items():\n",
    "        for player, score in scores.items():\n",
    "            if score > top_score:\n",
    "                top_player = player\n",
    "                top_score = score\n",
    "    \n",
    "    return (top_player, top_score)\n",
    "\n",
    "# Test the function\n",
    "match_scores = {\n",
    "    'test1': {'Dhoni': 56, 'Balaji': 85},\n",
    "    'test2': {'Dhoni': 87, 'Balaji': 200}\n",
    "}\n",
    "\n",
    "result = Max_Score(match_scores)\n",
    "print(result)"
   ]
  },
  {
   "cell_type": "markdown",
   "id": "35c5fb91",
   "metadata": {},
   "source": [
    "Q4. Create a simple Card game in which there are 8 cards which are randomly chosen from a deck. The first card is shown face up. The game asks the player to predict whether the next card in the selection will have a higher or lower value than the currently showing card.\n",
    ">For example, say the card that’s shown is a 3. The player chooses “higher,” and the next card is shown. If that card has a higher value, the player is correct. In this example, if the player had chosen “lower,” they would have been incorrect. If the player guesses correctly, they get 20 points. If they choose incorrectly, they lose 15 points. If the next card to be turned over has the same value as the previous card, the player is incorrect."
   ]
  },
  {
   "cell_type": "code",
   "execution_count": 6,
   "id": "adc8f43e",
   "metadata": {},
   "outputs": [
    {
     "name": "stdout",
     "output_type": "stream",
     "text": [
      "Current card: 12\n",
      "Will the next card be higher or lower? (h/l): h\n",
      "Next card: 2\n",
      "Incorrect! The next card doesn't match your prediction.\n",
      "The next card has the same value as the previous card.\n",
      "Game over. Your final score: -15\n"
     ]
    }
   ],
   "source": [
    "import random\n",
    "\n",
    "# Function to initialize and shuffle the deck of cards\n",
    "def initialize_deck():\n",
    "    deck = list(range(1, 14)) * 4  # Generate a deck with values from 1 to 13 (Ace to King)\n",
    "    random.shuffle(deck)\n",
    "    return deck\n",
    "\n",
    "# Function to play the card game\n",
    "def play_card_game():\n",
    "    deck = initialize_deck()\n",
    "    score = 0\n",
    "    \n",
    "    # Show the first card\n",
    "    current_card = deck.pop(0)\n",
    "    print(\"Current card:\", current_card)\n",
    "    \n",
    "    while deck:\n",
    "        # Ask for player's prediction\n",
    "        prediction = input(\"Will the next card be higher or lower? (h/l): \").lower()\n",
    "        \n",
    "        # Show the next card\n",
    "        next_card = deck.pop(0)\n",
    "        print(\"Next card:\", next_card)\n",
    "        \n",
    "        # Compare the values of current and next cards\n",
    "        if next_card > current_card and prediction == 'h':\n",
    "            print(\"Correct! The next card is higher.\")\n",
    "            score += 20\n",
    "        elif next_card < current_card and prediction == 'l':\n",
    "            print(\"Correct! The next card is lower.\")\n",
    "            score += 20\n",
    "        else:\n",
    "            print(\"Incorrect! The next card doesn't match your prediction.\")\n",
    "            score -= 15\n",
    "        \n",
    "        current_card = next_card  # Update the current card\n",
    "        \n",
    "        # Check if the next card has the same value as the previous card\n",
    "        if next_card == current_card:\n",
    "            print(\"The next card has the same value as the previous card.\")\n",
    "            break\n",
    "        \n",
    "        print(\"Score:\", score)\n",
    "    \n",
    "    print(\"Game over. Your final score:\", score)\n",
    "\n",
    "# Play the card game\n",
    "play_card_game()"
   ]
  },
  {
   "cell_type": "markdown",
   "id": "2ec3ab1f",
   "metadata": {},
   "source": [
    "Q5. Create an empty dictionary called Car_0 . Then fill the dictionary with Keys : color , speed , X_position and Y_position.\n",
    ">car_0 = {'x_position': 10, 'y_position': 72, 'speed': 'medium'} .\n",
    "1. If the speed is slow the coordinates of the X_pos get incremented by 2.\n",
    "2. If the speed is Medium the coordinates of the X_pos gets incremented by 9\n",
    "3. Now if the speed is Fast the coordinates of the X_pos gets incremented by 22.\n",
    ">Print the modified dictionary."
   ]
  },
  {
   "cell_type": "code",
   "execution_count": 8,
   "id": "09af24ca",
   "metadata": {},
   "outputs": [
    {
     "name": "stdout",
     "output_type": "stream",
     "text": [
      "{'color': '', 'speed': 'medium', 'x_position': 19, 'y_position': 72}\n"
     ]
    }
   ],
   "source": [
    "Car_0 = {}\n",
    "\n",
    "# Fill the dictionary with initial values\n",
    "Car_0['color'] = ''\n",
    "Car_0['speed'] = 'medium'\n",
    "Car_0['x_position'] = 10\n",
    "Car_0['y_position'] = 72\n",
    "\n",
    "# Update the values based on the speed condition\n",
    "if Car_0['speed'] == 'slow':\n",
    "    Car_0['x_position'] += 2\n",
    "elif Car_0['speed'] == 'medium':\n",
    "    Car_0['x_position'] += 9\n",
    "elif Car_0['speed'] == 'fast':\n",
    "    Car_0['x_position'] += 22\n",
    "\n",
    "# Print the modified dictionary\n",
    "print(Car_0)"
   ]
  },
  {
   "cell_type": "markdown",
   "id": "8e7ba66b",
   "metadata": {},
   "source": [
    "Q6. Show a basic implementation of abstraction in python using the abstract classes.\n",
    "1. Create an abstract class in python.\n",
    "2. Implement abstraction with the other classes and base class as abstract class."
   ]
  },
  {
   "cell_type": "code",
   "execution_count": 9,
   "id": "aac8cf14",
   "metadata": {},
   "outputs": [
    {
     "name": "stdout",
     "output_type": "stream",
     "text": [
      "Rectangle:\n",
      "Area: 15\n",
      "Perimeter: 16\n",
      "\n",
      "Circle:\n",
      "Area: 153.86\n",
      "Circumference: 43.96\n"
     ]
    }
   ],
   "source": [
    "from abc import ABC, abstractmethod\n",
    "\n",
    "# Step 1: Create an abstract class\n",
    "class Shape(ABC):\n",
    "    @abstractmethod\n",
    "    def area(self):\n",
    "        pass\n",
    "\n",
    "    @abstractmethod\n",
    "    def perimeter(self):\n",
    "        pass\n",
    "\n",
    "# Step 2: Implement concrete classes\n",
    "class Rectangle(Shape):\n",
    "    def __init__(self, length, width):\n",
    "        self.length = length\n",
    "        self.width = width\n",
    "\n",
    "    def area(self):\n",
    "        return self.length * self.width\n",
    "\n",
    "    def perimeter(self):\n",
    "        return 2 * (self.length + self.width)\n",
    "\n",
    "class Circle(Shape):\n",
    "    def __init__(self, radius):\n",
    "        self.radius = radius\n",
    "\n",
    "    def area(self):\n",
    "        return 3.14 * self.radius ** 2\n",
    "\n",
    "    def perimeter(self):\n",
    "        return 2 * 3.14 * self.radius\n",
    "\n",
    "# Create instances and demonstrate abstraction\n",
    "rectangle = Rectangle(5, 3)\n",
    "circle = Circle(7)\n",
    "\n",
    "print(\"Rectangle:\")\n",
    "print(\"Area:\", rectangle.area())\n",
    "print(\"Perimeter:\", rectangle.perimeter())\n",
    "print()\n",
    "\n",
    "print(\"Circle:\")\n",
    "print(\"Area:\", circle.area())\n",
    "print(\"Circumference:\", circle.perimeter())"
   ]
  },
  {
   "cell_type": "markdown",
   "id": "c0b93afc",
   "metadata": {},
   "source": [
    "Q7. Create a program in python to demonstrate Polymorphism.\n",
    "1. Make use of private and protected members using python name mangling techniques."
   ]
  },
  {
   "cell_type": "code",
   "execution_count": 10,
   "id": "535587a5",
   "metadata": {},
   "outputs": [
    {
     "name": "stdout",
     "output_type": "stream",
     "text": [
      "Fluffy\n",
      "Animal eating...\n",
      "Meow!\n",
      "Buddy\n",
      "Animal eating...\n",
      "Woof!\n",
      "Simba\n",
      "Animal eating...\n",
      "Roar!\n"
     ]
    }
   ],
   "source": [
    "class Animal:\n",
    "    def __init__(self, name):\n",
    "        self._name = name  # Protected member\n",
    "    \n",
    "    def _eat(self):\n",
    "        print(\"Animal eating...\")\n",
    "\n",
    "    def sound(self):\n",
    "        pass\n",
    "\n",
    "\n",
    "class Cat(Animal):\n",
    "    def sound(self):\n",
    "        print(\"Meow!\")\n",
    "\n",
    "\n",
    "class Dog(Animal):\n",
    "    def sound(self):\n",
    "        print(\"Woof!\")\n",
    "\n",
    "\n",
    "class Lion(Animal):\n",
    "    def sound(self):\n",
    "        print(\"Roar!\")\n",
    "\n",
    "\n",
    "class Zoo:\n",
    "    def __init__(self):\n",
    "        self.__animals = []  # Private member using name mangling\n",
    "    \n",
    "    def add_animal(self, animal):\n",
    "        self.__animals.append(animal)\n",
    "    \n",
    "    def show_animals(self):\n",
    "        for animal in self.__animals:\n",
    "            print(animal._name)  # Accessing protected member\n",
    "            animal._eat()  # Accessing protected member\n",
    "            animal.sound()\n",
    "\n",
    "\n",
    "# Create instances of different animals\n",
    "cat = Cat(\"Fluffy\")\n",
    "dog = Dog(\"Buddy\")\n",
    "lion = Lion(\"Simba\")\n",
    "\n",
    "# Create a zoo and add the animals\n",
    "zoo = Zoo()\n",
    "zoo.add_animal(cat)\n",
    "zoo.add_animal(dog)\n",
    "zoo.add_animal(lion)\n",
    "\n",
    "# Show the animals in the zoo\n",
    "zoo.show_animals()"
   ]
  },
  {
   "cell_type": "markdown",
   "id": "a4f0cc3c",
   "metadata": {},
   "source": [
    "Q8. Given a list of 50 natural numbers from 1-50. Create a function that will take every element from the list and return the square of each element. Use the python map and filter methods to implement the function on the given list."
   ]
  },
  {
   "cell_type": "code",
   "execution_count": 11,
   "id": "826e36fb",
   "metadata": {},
   "outputs": [
    {
     "name": "stdout",
     "output_type": "stream",
     "text": [
      "[1, 4, 9, 16, 25, 36, 49, 64, 81, 100, 121, 144, 169, 196, 225, 256, 289, 324, 361, 400, 441, 484, 529, 576, 625, 676, 729, 784, 841, 900, 961, 1024, 1089, 1156, 1225, 1296, 1369, 1444, 1521, 1600, 1681, 1764, 1849, 1936, 2025, 2116, 2209, 2304, 2401, 2500]\n"
     ]
    }
   ],
   "source": [
    "def square_numbers(numbers):\n",
    "    squared_numbers = list(map(lambda x: x**2, numbers))\n",
    "    return squared_numbers\n",
    "\n",
    "# Generate a list of natural numbers from 1 to 50\n",
    "numbers = list(range(1, 51))\n",
    "\n",
    "# Get the square of each number using the square_numbers function\n",
    "squared_numbers = square_numbers(numbers)\n",
    "\n",
    "print(squared_numbers)"
   ]
  },
  {
   "cell_type": "markdown",
   "id": "f1e2eea1",
   "metadata": {},
   "source": [
    "Q9. Create a class, Triangle. Its init() method should take self, angle1, angle2, and angle3 as arguments."
   ]
  },
  {
   "cell_type": "code",
   "execution_count": 12,
   "id": "209bb83b",
   "metadata": {},
   "outputs": [
    {
     "name": "stdout",
     "output_type": "stream",
     "text": [
      "Angle 1: 60\n",
      "Angle 2: 60\n",
      "Angle 3: 60\n"
     ]
    }
   ],
   "source": [
    "class Triangle:\n",
    "    def __init__(self, angle1, angle2, angle3):\n",
    "        self.angle1 = angle1\n",
    "        self.angle2 = angle2\n",
    "        self.angle3 = angle3\n",
    "\n",
    "# Create an instance of the Triangle class\n",
    "triangle = Triangle(60, 60, 60)\n",
    "\n",
    "# Access the angles of the triangle\n",
    "print(\"Angle 1:\", triangle.angle1)\n",
    "print(\"Angle 2:\", triangle.angle2)\n",
    "print(\"Angle 3:\", triangle.angle3)"
   ]
  },
  {
   "cell_type": "markdown",
   "id": "4d42c873",
   "metadata": {},
   "source": [
    "Q10. Create a class variable named number_of_sides and set it equal to 3."
   ]
  },
  {
   "cell_type": "code",
   "execution_count": 13,
   "id": "24a98d4a",
   "metadata": {},
   "outputs": [
    {
     "name": "stdout",
     "output_type": "stream",
     "text": [
      "Number of sides: 3\n"
     ]
    }
   ],
   "source": [
    "class Triangle:\n",
    "    number_of_sides = 3\n",
    "\n",
    "    def __init__(self, angle1, angle2, angle3):\n",
    "        self.angle1 = angle1\n",
    "        self.angle2 = angle2\n",
    "        self.angle3 = angle3\n",
    "\n",
    "# Access the class variable\n",
    "print(\"Number of sides:\", Triangle.number_of_sides)"
   ]
  },
  {
   "cell_type": "markdown",
   "id": "0e63d3e8",
   "metadata": {},
   "source": [
    "Q11. Create a method named check_angles. The sum of a triangle's three angles should return True if the sum is equal to 180, and False otherwise. The method should print whether the angles belong to a triangle or not.\n",
    "1. Write methods to verify if the triangle is an acute triangle or obtuse triangle.\n",
    "2. Create an instance of the triangle class and call all the defined methods.\n",
    "3. Create three child classes of triangle class - isosceles_triangle, right_triangle and equilateral_triangle.\n",
    "4. Define methods which check for their properties."
   ]
  },
  {
   "cell_type": "code",
   "execution_count": 14,
   "id": "42bf3b2f",
   "metadata": {},
   "outputs": [
    {
     "name": "stdout",
     "output_type": "stream",
     "text": [
      "The angles belong to a triangle.\n",
      "The triangle is an acute triangle.\n",
      "The triangle is not an obtuse triangle.\n",
      "The angles do not belong to a triangle.\n",
      "The triangle is an isosceles triangle.\n",
      "The angles belong to a triangle.\n",
      "The triangle is a right angle triangle.\n",
      "The angles belong to a triangle.\n",
      "The triangle is an equilateral triangle.\n"
     ]
    }
   ],
   "source": [
    "class Triangle:\n",
    "    number_of_sides = 3\n",
    "\n",
    "    def __init__(self, angle1, angle2, angle3):\n",
    "        self.angle1 = angle1\n",
    "        self.angle2 = angle2\n",
    "        self.angle3 = angle3\n",
    "    \n",
    "    def check_angles(self):\n",
    "        total_angle = self.angle1 + self.angle2 + self.angle3\n",
    "        if total_angle == 180:\n",
    "            print(\"The angles belong to a triangle.\")\n",
    "        else:\n",
    "            print(\"The angles do not belong to a triangle.\")\n",
    "\n",
    "    def is_acute_triangle(self):\n",
    "        if self.angle1 < 90 and self.angle2 < 90 and self.angle3 < 90:\n",
    "            print(\"The triangle is an acute triangle.\")\n",
    "        else:\n",
    "            print(\"The triangle is not an acute triangle.\")\n",
    "    \n",
    "    def is_obtuse_triangle(self):\n",
    "        if self.angle1 > 90 or self.angle2 > 90 or self.angle3 > 90:\n",
    "            print(\"The triangle is an obtuse triangle.\")\n",
    "        else:\n",
    "            print(\"The triangle is not an obtuse triangle.\")\n",
    "\n",
    "\n",
    "class IsoscelesTriangle(Triangle):\n",
    "    def is_isosceles(self):\n",
    "        if self.angle1 == self.angle2 or self.angle1 == self.angle3 or self.angle2 == self.angle3:\n",
    "            print(\"The triangle is an isosceles triangle.\")\n",
    "        else:\n",
    "            print(\"The triangle is not an isosceles triangle.\")\n",
    "\n",
    "\n",
    "class RightTriangle(Triangle):\n",
    "    def is_right_angle_triangle(self):\n",
    "        if self.angle1 == 90 or self.angle2 == 90 or self.angle3 == 90:\n",
    "            print(\"The triangle is a right angle triangle.\")\n",
    "        else:\n",
    "            print(\"The triangle is not a right angle triangle.\")\n",
    "\n",
    "\n",
    "class EquilateralTriangle(Triangle):\n",
    "    def is_equilateral(self):\n",
    "        if self.angle1 == self.angle2 == self.angle3:\n",
    "            print(\"The triangle is an equilateral triangle.\")\n",
    "        else:\n",
    "            print(\"The triangle is not an equilateral triangle.\")\n",
    "\n",
    "\n",
    "# Create an instance of the Triangle class\n",
    "triangle = Triangle(60, 60, 60)\n",
    "\n",
    "# Call the defined methods\n",
    "triangle.check_angles()\n",
    "triangle.is_acute_triangle()\n",
    "triangle.is_obtuse_triangle()\n",
    "\n",
    "# Create an instance of the IsoscelesTriangle class\n",
    "isosceles_triangle = IsoscelesTriangle(60, 60, 90)\n",
    "isosceles_triangle.check_angles()\n",
    "isosceles_triangle.is_isosceles()\n",
    "\n",
    "# Create an instance of the RightTriangle class\n",
    "right_triangle = RightTriangle(30, 60, 90)\n",
    "right_triangle.check_angles()\n",
    "right_triangle.is_right_angle_triangle()\n",
    "\n",
    "# Create an instance of the EquilateralTriangle class\n",
    "equilateral_triangle = EquilateralTriangle(60, 60, 60)\n",
    "equilateral_triangle.check_angles()\n",
    "equilateral_triangle.is_equilateral()"
   ]
  },
  {
   "cell_type": "markdown",
   "id": "22f9d6fa",
   "metadata": {},
   "source": [
    "Q12. Create a class isosceles_right_triangle which inherits from isosceles_triangle and right_triangle.\n",
    "1. Define methods which check for their properties."
   ]
  },
  {
   "cell_type": "code",
   "execution_count": 15,
   "id": "62e8e700",
   "metadata": {},
   "outputs": [
    {
     "name": "stdout",
     "output_type": "stream",
     "text": [
      "Isosceles: True\n",
      "Right Angle: False\n",
      "Isosceles Right Triangle: False\n"
     ]
    }
   ],
   "source": [
    "class IsoscelesTriangle:\n",
    "    def __init__(self, base, height):\n",
    "        self.base = base\n",
    "        self.height = height\n",
    "\n",
    "    def is_isosceles(self):\n",
    "        if self.base == self.height:\n",
    "            return True\n",
    "        else:\n",
    "            return False\n",
    "\n",
    "\n",
    "class RightTriangle:\n",
    "    def __init__(self, base, height):\n",
    "        self.base = base\n",
    "        self.height = height\n",
    "\n",
    "    def is_right_angle_triangle(self):\n",
    "        if self.base ** 2 + self.height ** 2 == self.base ** 2:\n",
    "            return True\n",
    "        else:\n",
    "            return False\n",
    "\n",
    "\n",
    "class IsoscelesRightTriangle(IsoscelesTriangle, RightTriangle):\n",
    "    def __init__(self, base, height):\n",
    "        super().__init__(base, height)\n",
    "\n",
    "    def is_isosceles_right_triangle(self):\n",
    "        if self.is_isosceles() and self.is_right_angle_triangle():\n",
    "            return True\n",
    "        else:\n",
    "            return False\n",
    "\n",
    "\n",
    "# Create an instance of IsoscelesRightTriangle\n",
    "triangle = IsoscelesRightTriangle(4, 4)\n",
    "\n",
    "# Check the properties of the IsoscelesRightTriangle\n",
    "print(\"Isosceles:\", triangle.is_isosceles())\n",
    "print(\"Right Angle:\", triangle.is_right_angle_triangle())\n",
    "print(\"Isosceles Right Triangle:\", triangle.is_isosceles_right_triangle())"
   ]
  },
  {
   "cell_type": "code",
   "execution_count": null,
   "id": "526cb677",
   "metadata": {},
   "outputs": [],
   "source": []
  }
 ],
 "metadata": {
  "kernelspec": {
   "display_name": "Python 3 (ipykernel)",
   "language": "python",
   "name": "python3"
  },
  "language_info": {
   "codemirror_mode": {
    "name": "ipython",
    "version": 3
   },
   "file_extension": ".py",
   "mimetype": "text/x-python",
   "name": "python",
   "nbconvert_exporter": "python",
   "pygments_lexer": "ipython3",
   "version": "3.11.5"
  }
 },
 "nbformat": 4,
 "nbformat_minor": 5
}
