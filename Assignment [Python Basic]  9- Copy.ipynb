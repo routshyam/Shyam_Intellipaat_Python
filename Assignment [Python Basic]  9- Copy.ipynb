{
 "cells": [
  {
   "cell_type": "markdown",
   "id": "14b6d4a1",
   "metadata": {},
   "source": [
    "Q1. Using Python script as a calculator -->\n",
    "Create the variables n, r, p and assign them values 10, 5, and 100 respectively. Then\n",
    "evaluate the following expression in the Python console.\n",
    ">𝐴 = 𝑝 (1 + 𝑟/ 100)n\n",
    "1. 100\n",
    "2. 162.89\n",
    "3. 189\n",
    "4. None of the above -->"
   ]
  },
  {
   "cell_type": "code",
   "execution_count": 7,
   "id": "0381e8fb",
   "metadata": {},
   "outputs": [],
   "source": [
    "n=10\n",
    "r=5\n",
    "p=100"
   ]
  },
  {
   "cell_type": "code",
   "execution_count": 8,
   "id": "84ad4b82",
   "metadata": {},
   "outputs": [
    {
     "name": "stdout",
     "output_type": "stream",
     "text": [
      "162.8894626777442\n"
     ]
    }
   ],
   "source": [
    "A = p*(1 + (r/100))**n\n",
    "print(A)\n",
    "\n",
    "\n",
    "#Ans - b. 162.89"
   ]
  },
  {
   "cell_type": "markdown",
   "id": "9a6c89fe",
   "metadata": {},
   "source": [
    "Q2. In a given string format operation, how will you print the given string.\n",
    "- A = 10\n",
    "- B = 20"
   ]
  },
  {
   "cell_type": "markdown",
   "id": "a1a1b0cb",
   "metadata": {},
   "source": [
    "Str = \"There are {} students in the class, with {} who play at least one sport.\"\n",
    "1. print(string.format(a,b))\n",
    "2. print(string+a+b)\n",
    "3. print(string.format(b,a))\n",
    "4. None of the above"
   ]
  },
  {
   "cell_type": "code",
   "execution_count": 16,
   "id": "edfe364d",
   "metadata": {},
   "outputs": [
    {
     "name": "stdout",
     "output_type": "stream",
     "text": [
      "There are 20 students in the class, with 10 who play at least one sport.\n"
     ]
    }
   ],
   "source": [
    "#  Using format() function to replace placeholders with arguments{}\n",
    "\n",
    "\n",
    "a=10\n",
    "b=20\n",
    "Str = \"There are {} students in the class, with {} who play at least one sport.\"\n",
    "print(Str.format(b,a))\n",
    "\n",
    "\n",
    "#Ans- c. print(string.format(b,a))"
   ]
  },
  {
   "cell_type": "markdown",
   "id": "5d8dae5a",
   "metadata": {},
   "source": [
    "Q3. In a given sample string, How do you print a double quoted string in between a regular string using the escape character?\n",
    " \n",
    " >Sample output = It goes without saying, “Time is Money”, and none can deny it.\n",
    "\n",
    "1. print(“It goes without saying, \\“Time is Money\\”, and none can deny it.”)\n",
    "2. print(“It goes without saying, \\Time is Money\\, and none can deny it.”)\n",
    "3. print(“It goes without saying” + “Time is Money” + “and none can deny it.”)\n",
    "4. None of the above. -->"
   ]
  },
  {
   "cell_type": "code",
   "execution_count": 21,
   "id": "09526183",
   "metadata": {},
   "outputs": [
    {
     "name": "stdout",
     "output_type": "stream",
     "text": [
      "It goes without saying,\"Time is Money\",and none can deny it. \n"
     ]
    }
   ],
   "source": [
    "print(\"It goes without saying,\\\"Time is Money\\\",and none can deny it. \")\n",
    "\n",
    "# BEFORE \\\" quote escape character use interpreter easily understand quote is part of string ,ALSO AT the end \\\" after \n",
    "# escape character use interpreter understrand \\ escape char will not close permanently string.\n",
    "\n",
    "\n",
    "#Ans - A. print(\"It goes without saying,\\\"Time is Money\\\",and none can deny it. \")\n"
   ]
  },
  {
   "cell_type": "markdown",
   "id": "d72d3af7",
   "metadata": {},
   "source": [
    "Q4. What will be the output of the following code?\n",
    ">x = lambda a,b: a//b   # FLOOR DIVISION CALCULATION  APPLY\n",
    "x(10,3)\n",
    "1. 3.3333333333\n",
    "2. 3\n",
    "3. 30\n",
    "4. 1000\n"
   ]
  },
  {
   "cell_type": "code",
   "execution_count": 23,
   "id": "b7d66190",
   "metadata": {},
   "outputs": [
    {
     "data": {
      "text/plain": [
       "3"
      ]
     },
     "execution_count": 23,
     "metadata": {},
     "output_type": "execute_result"
    }
   ],
   "source": [
    "x =  lambda a,b : a//b\n",
    "x(10,3)\n",
    "\n",
    "\n",
    "#Ans - b. 3"
   ]
  },
  {
   "cell_type": "markdown",
   "id": "38273bc7",
   "metadata": {},
   "source": [
    "Q5. What will be the output of the following code?\n",
    "- A = 10\n",
    "- B = 12"
   ]
  },
  {
   "cell_type": "markdown",
   "id": "81f9c9da",
   "metadata": {},
   "source": [
    "print(\"Smaller\") if A == B else print(\"Greater\") if A < B else print(\"True\")\n",
    "1. True\n",
    "2. Smaller\n",
    "3. Greater\n",
    "4. None of the above"
   ]
  },
  {
   "cell_type": "code",
   "execution_count": 22,
   "id": "7b67e130",
   "metadata": {},
   "outputs": [
    {
     "name": "stdout",
     "output_type": "stream",
     "text": [
      "Greater\n"
     ]
    }
   ],
   "source": [
    "A = 10\n",
    "B = 12\n",
    "print(\"Smaller\") if A == B else print(\"Greater\") if A < B else print(\"True\")\n",
    "\n",
    "\n",
    "#Ans - c. Greater"
   ]
  },
  {
   "cell_type": "markdown",
   "id": "73a9765b",
   "metadata": {},
   "source": [
    "Q6. What will be the output of the following code?"
   ]
  },
  {
   "cell_type": "markdown",
   "id": "b0d3342d",
   "metadata": {},
   "source": [
    "import os\n",
    "import numpy as np\n",
    "my_list1 = [2,7,3,5,4,6]\n",
    "print(my_list1)\n",
    "arr_1 = np.array(my_list1, dtype=int)\n",
    "print(arr_1)"
   ]
  },
  {
   "cell_type": "markdown",
   "id": "2d1de3c5",
   "metadata": {},
   "source": [
    "1. [2 7 3 5 4 6]\n",
    "2. TypeError\n",
    "3. NameError: name 'numpy' is not defined\n",
    "4. None of the above"
   ]
  },
  {
   "cell_type": "code",
   "execution_count": 27,
   "id": "75d6889b",
   "metadata": {},
   "outputs": [
    {
     "name": "stdout",
     "output_type": "stream",
     "text": [
      "[2, 7, 3, 5, 4, 6]\n",
      "[2 7 3 5 4 6]\n"
     ]
    }
   ],
   "source": [
    "import os\n",
    "import numpy as np\n",
    "my_list1 = [2,7,3,5,4,6]\n",
    "print(my_list1)\n",
    "arr_1 = np.array(my_list1, dtype=int)\n",
    "print(arr_1)\n",
    "\n",
    "\n",
    "#Ans- a. [2 7 3 5 4 6]"
   ]
  },
  {
   "cell_type": "markdown",
   "id": "dc85f344",
   "metadata": {},
   "source": [
    "Q7. Create a string called ‘string’ with the value as “Machine Learning”. Which code(s)\n",
    "is/are appropriate to slice the substring “Learn”?\n",
    "1. string[slice(13,8,1)]\n",
    "2. string[slice(1,8,1)]\n",
    "3. string[8:14]\n",
    "4. string[slice(8,13,1)]"
   ]
  },
  {
   "cell_type": "code",
   "execution_count": 40,
   "id": "55cd24a0",
   "metadata": {},
   "outputs": [
    {
     "name": "stdout",
     "output_type": "stream",
     "text": [
      "Learn\n"
     ]
    }
   ],
   "source": [
    "string = 'Machine Learning'\n",
    "print(string[slice(8,13,1)])   # 8 start index 13 stop index 1 step ...\n",
    "\n",
    "\n",
    "#Ans - d. string[slice(8,13,1)]"
   ]
  },
  {
   "cell_type": "markdown",
   "id": "885067b4",
   "metadata": {},
   "source": [
    "Q8. Create a sequence of numbers from 10 to 25 and increment by 4. What is the index of the value 18?\n",
    "1. 3\n",
    "2. 2\n",
    "3. 0\n",
    "4. 1"
   ]
  },
  {
   "cell_type": "code",
   "execution_count": 51,
   "id": "41984d2a",
   "metadata": {},
   "outputs": [
    {
     "name": "stdout",
     "output_type": "stream",
     "text": [
      "[10, 14, 18, 22]\n",
      "2\n"
     ]
    }
   ],
   "source": [
    "seq = list(range(10,25,4))\n",
    "index = seq.index(18)\n",
    "print(seq)\n",
    "print(index)\n",
    "\n",
    "\n",
    "#Ans - b. 2"
   ]
  },
  {
   "cell_type": "markdown",
   "id": "859d588e",
   "metadata": {},
   "source": [
    "Q9. Which of the following is true with respect to the below codes?"
   ]
  },
  {
   "cell_type": "code",
   "execution_count": 54,
   "id": "ca4685be",
   "metadata": {},
   "outputs": [],
   "source": [
    "# num1 = 5**4\n",
    "# num2 = pow(5,4)\n",
    "# print(num1,num2)"
   ]
  },
  {
   "cell_type": "markdown",
   "id": "56702bb2",
   "metadata": {},
   "source": [
    "1. num1 = num2\n",
    "2. num1 ≠ num2\n",
    "3. num1 < num2\n",
    "4. num1 > num2"
   ]
  },
  {
   "cell_type": "code",
   "execution_count": 53,
   "id": "ef6c5db4",
   "metadata": {},
   "outputs": [
    {
     "name": "stdout",
     "output_type": "stream",
     "text": [
      "625 625\n"
     ]
    }
   ],
   "source": [
    "num1 = 5**4\n",
    "num2 = pow(5,4)\n",
    "print(num1,num2)\n",
    "\n",
    "\n",
    "#Ans -  a. num1=num2"
   ]
  },
  {
   "cell_type": "markdown",
   "id": "8a6632d0",
   "metadata": {},
   "source": [
    "Q10.A Python NameError exception is raised when: -\n",
    "1. Trying to access a variable which has not been defined\n",
    "2. Trying to access a key in a dictionary that does not exist\n",
    "3. Accessing a column with misspelled column name\n",
    "4. Accessing the function from a module that has not been imported"
   ]
  },
  {
   "cell_type": "code",
   "execution_count": 31,
   "id": "a2e7a532",
   "metadata": {},
   "outputs": [],
   "source": [
    "#Ans - a. Trying to access a variable which has not been defined"
   ]
  },
  {
   "cell_type": "markdown",
   "id": "d66514ec",
   "metadata": {},
   "source": [
    "Q11.What type of exception will be raised for the code given below?"
   ]
  },
  {
   "cell_type": "code",
   "execution_count": 71,
   "id": "fc3180d6",
   "metadata": {},
   "outputs": [],
   "source": [
    "# x = 'string'\n",
    "# int(x)\n",
    "# print(value)"
   ]
  },
  {
   "cell_type": "markdown",
   "id": "b01dc2bc",
   "metadata": {},
   "source": [
    "1. NameError\n",
    "2. KeyError\n",
    "3. ValueError\n",
    "4. AttributeError"
   ]
  },
  {
   "cell_type": "code",
   "execution_count": 72,
   "id": "cddd6fb9",
   "metadata": {},
   "outputs": [
    {
     "ename": "ValueError",
     "evalue": "invalid literal for int() with base 10: 'string'",
     "output_type": "error",
     "traceback": [
      "\u001b[1;31m---------------------------------------------------------------------------\u001b[0m",
      "\u001b[1;31mValueError\u001b[0m                                Traceback (most recent call last)",
      "Cell \u001b[1;32mIn[72], line 2\u001b[0m\n\u001b[0;32m      1\u001b[0m x \u001b[38;5;241m=\u001b[39m \u001b[38;5;124m'\u001b[39m\u001b[38;5;124mstring\u001b[39m\u001b[38;5;124m'\u001b[39m\n\u001b[1;32m----> 2\u001b[0m \u001b[38;5;28mint\u001b[39m(x)\n\u001b[0;32m      4\u001b[0m \u001b[38;5;28mprint\u001b[39m(x)\n",
      "\u001b[1;31mValueError\u001b[0m: invalid literal for int() with base 10: 'string'"
     ]
    }
   ],
   "source": [
    "x = 'string'\n",
    "int(x)\n",
    "\n",
    "print(x)\n",
    "#Ans -  c. ValueError"
   ]
  },
  {
   "cell_type": "markdown",
   "id": "79b99818",
   "metadata": {},
   "source": [
    "Q12.A FileNotFoundError exception is raised by operating system errors when: -\n",
    "1. Trying to create a file or directory which already exists\n",
    "2. A file or directory is requested but does not exist in the working directory\n",
    "3. Trying to run an operation without the adequate access rights\n",
    "4. A directory operation, os.listdir() is requested on something which is not a directory"
   ]
  },
  {
   "cell_type": "code",
   "execution_count": 33,
   "id": "ebc9c9f1",
   "metadata": {},
   "outputs": [],
   "source": [
    "# b. A file or directory is requested but does not exist in the working directory"
   ]
  },
  {
   "cell_type": "markdown",
   "id": "9ab50595",
   "metadata": {},
   "source": [
    "Q13.Consider a variable Z. The value of Z is \"ID-5632\". Data type of Z is: -\n",
    "1. Complex\n",
    "2. Character\n",
    "3. Integer\n",
    "4. Boolean"
   ]
  },
  {
   "cell_type": "code",
   "execution_count": 73,
   "id": "c8da4b05",
   "metadata": {},
   "outputs": [
    {
     "name": "stdout",
     "output_type": "stream",
     "text": [
      "<class 'str'>\n"
     ]
    }
   ],
   "source": [
    "Z = \"ID-5632\"\n",
    "\n",
    "print(type(Z))   #str dtype is character\n",
    "\n",
    "\n",
    "#Ans - b. Character"
   ]
  },
  {
   "cell_type": "markdown",
   "id": "1aa84081",
   "metadata": {},
   "source": [
    "Q14.Which of the following variable(s) are character data type?\n",
    "1. K= “4”\n",
    "2. J= “Welcome”\n",
    "3. L= “?”\n",
    "4. All of the above"
   ]
  },
  {
   "cell_type": "code",
   "execution_count": 41,
   "id": "1271e01f",
   "metadata": {},
   "outputs": [],
   "source": [
    "#Ans - d. All of the above"
   ]
  },
  {
   "cell_type": "markdown",
   "id": "a2a4c43b",
   "metadata": {},
   "source": [
    "Q15.Choose the symbol/s that does not have the ability to convert any values to string?\n",
    "1. ( )\n",
    "2. “ ”\n",
    "3. {}\n",
    "4. #"
   ]
  },
  {
   "cell_type": "code",
   "execution_count": 86,
   "id": "9c77b11d",
   "metadata": {},
   "outputs": [],
   "source": [
    "#  these symbols are use for define code not use for conversion\n",
    "\n",
    "#Ans - d.#  ---  eg:- () : use for tupple(\"\",\"\") & str(\"\") ,\"\" : - sting \"Hello\", dict : -{\"shyam\"} ,  # use for comment ...\n"
   ]
  },
  {
   "cell_type": "markdown",
   "id": "3f365513",
   "metadata": {},
   "source": [
    "Q16.Create a dictionary ‘Country’ that maps the following countries to their capitals\n",
    "respectively:"
   ]
  },
  {
   "cell_type": "markdown",
   "id": "0f5437bb",
   "metadata": {},
   "source": [
    "- Country India China Japan Qatar France\n",
    "- State Delhi Beijing Tokyo Doha Marseilles"
   ]
  },
  {
   "cell_type": "markdown",
   "id": "824adde0",
   "metadata": {},
   "source": [
    "\n",
    "Find 2 commands to replace “Marseilles” with “Paris” is:"
   ]
  },
  {
   "cell_type": "code",
   "execution_count": 89,
   "id": "bb1aa453",
   "metadata": {},
   "outputs": [
    {
     "name": "stdout",
     "output_type": "stream",
     "text": [
      "{'India': 'Delhi', 'China': 'Beijing', 'Japan': 'Tokyo', 'Qatar': 'Doha', 'France': 'Marseilles'}\n"
     ]
    }
   ],
   "source": [
    "Country={'India':'Delhi' , 'China':'Beijing' , 'Japan':'Tokyo' , 'Qatar':'Doha' , 'France':'Marseilles'}\n",
    "print(Country)"
   ]
  },
  {
   "cell_type": "code",
   "execution_count": 90,
   "id": "536010a8",
   "metadata": {},
   "outputs": [
    {
     "name": "stdout",
     "output_type": "stream",
     "text": [
      "{'India': 'Delhi', 'China': 'Beijing', 'Japan': 'Tokyo', 'Qatar': 'Doha', 'France': 'Paris'}\n"
     ]
    }
   ],
   "source": [
    "# First Way\n",
    "Country['France']='Paris'\n",
    "print(Country)"
   ]
  },
  {
   "cell_type": "code",
   "execution_count": 50,
   "id": "bc639f84",
   "metadata": {},
   "outputs": [
    {
     "data": {
      "text/plain": [
       "{'India': 'Delhi',\n",
       " 'China': 'Beijing',\n",
       " 'Japan': 'Tokyo',\n",
       " 'Qatar': 'Doha',\n",
       " 'France': 'Paris'}"
      ]
     },
     "execution_count": 50,
     "metadata": {},
     "output_type": "execute_result"
    }
   ],
   "source": [
    "# Second Way\n",
    "Country.update({'France': 'Paris'})\n",
    "Country"
   ]
  },
  {
   "cell_type": "markdown",
   "id": "a5350130",
   "metadata": {},
   "source": [
    " Q17. Create the tuples given below\n",
    "- tuple_1 = (1,5,6,7,8)\n",
    "- tuple_2 = (8,9,4)\n",
    "- Identify which of the following code does not work on a tuple.\n",
    "1. sum(tuple_1)\n",
    "2. len(tuple_2)\n",
    "3. tuple_2 + tuple_1\n",
    "4. tuple_1[3] = 45\n",
    " -->\n",
    "\n",
    "\n"
   ]
  },
  {
   "cell_type": "code",
   "execution_count": 104,
   "id": "edc8b1bb",
   "metadata": {},
   "outputs": [
    {
     "name": "stdout",
     "output_type": "stream",
     "text": [
      "27\n",
      "3\n",
      "(8, 9, 4, 1, 5, 6, 7, 8)\n"
     ]
    }
   ],
   "source": [
    "tuple_1 = (1,5,6,7,8)\n",
    "tuple_2 = (8,9,4)\n",
    "\n",
    "print(sum(tuple_1)) # sum no of value\n",
    "print(len(tuple_2)) # define length of no of value \n",
    "print(tuple_2 + tuple_1) # concatenate 2 + 1\n",
    "# tuple_1[3] = 45   # it will not work because tuple is the immutable dat type.\n",
    "\n",
    "\n",
    "#Ans - d. tuple_1[3] = 45"
   ]
  },
  {
   "cell_type": "markdown",
   "id": "36c1fbdd",
   "metadata": {},
   "source": [
    "Q18. How many elements in the following data structure?\n",
    ">S={1,2,3,4,4,4,5,6}"
   ]
  },
  {
   "cell_type": "code",
   "execution_count": 115,
   "id": "4c532f3d",
   "metadata": {},
   "outputs": [
    {
     "name": "stdout",
     "output_type": "stream",
     "text": [
      "Number of elements: 6\n"
     ]
    }
   ],
   "source": [
    "S={1,2,3,4,4,4,5,6}\n",
    "\n",
    "\n",
    "print(\"Number of elements:\",len(S))"
   ]
  },
  {
   "cell_type": "markdown",
   "id": "7bd8fa0e",
   "metadata": {},
   "source": [
    "Q19.Write a function which finds all pythagorean triplets of triangles whose sides are no greater than a natural number N."
   ]
  },
  {
   "cell_type": "code",
   "execution_count": 9,
   "id": "470781cb",
   "metadata": {},
   "outputs": [],
   "source": [
    "def pyTriplets(N):\n",
    "    triplets = []\n",
    "    \n",
    "    for a in range(1, N+1):\n",
    "        for b in range(a, N+1):\n",
    "            c_square = a**2 + b**2\n",
    "            c = int(c_square**0.5)\n",
    "            \n",
    "            if c_square == c**2 and c <= N:\n",
    "                triplets.append((a, b, c))\n",
    "    \n",
    "    return triplets\n",
    "\n",
    "#  a2 + b2 = c2 ------pythagorean trplet function(pytriplet)  c = hypotenuse length, a & b = shorter length.."
   ]
  },
  {
   "cell_type": "code",
   "execution_count": 10,
   "id": "ac77e654",
   "metadata": {},
   "outputs": [
    {
     "data": {
      "text/plain": [
       "[(3, 4, 5)]"
      ]
     },
     "execution_count": 10,
     "metadata": {},
     "output_type": "execute_result"
    }
   ],
   "source": [
    "pyTriplets(5)"
   ]
  },
  {
   "cell_type": "code",
   "execution_count": 31,
   "id": "0c6dcf2c",
   "metadata": {},
   "outputs": [],
   "source": [
    "def pyTriplets(N):\n",
    "    \n",
    "    triplets = []\n",
    "    \n",
    "    for a in range(1,N+1):\n",
    "        for b in range(a,N+1):\n",
    "            c_square = a**2 + b**2\n",
    "            c = int(c_square**0.5)\n",
    "            \n",
    "            if c_square ==c**2 and c <= N:\n",
    "                triplets.append((a,b,c))\n",
    "                \n",
    "    return triplets\n",
    "                "
   ]
  },
  {
   "cell_type": "code",
   "execution_count": 32,
   "id": "d34bb965",
   "metadata": {},
   "outputs": [
    {
     "data": {
      "text/plain": [
       "[(3, 4, 5)]"
      ]
     },
     "execution_count": 32,
     "metadata": {},
     "output_type": "execute_result"
    }
   ],
   "source": [
    "pyTriplets(5)"
   ]
  },
  {
   "cell_type": "code",
   "execution_count": null,
   "id": "1e7ea8df",
   "metadata": {},
   "outputs": [],
   "source": []
  }
 ],
 "metadata": {
  "kernelspec": {
   "display_name": "Python 3 (ipykernel)",
   "language": "python",
   "name": "python3"
  },
  "language_info": {
   "codemirror_mode": {
    "name": "ipython",
    "version": 3
   },
   "file_extension": ".py",
   "mimetype": "text/x-python",
   "name": "python",
   "nbconvert_exporter": "python",
   "pygments_lexer": "ipython3",
   "version": "3.11.5"
  }
 },
 "nbformat": 4,
 "nbformat_minor": 5
}
